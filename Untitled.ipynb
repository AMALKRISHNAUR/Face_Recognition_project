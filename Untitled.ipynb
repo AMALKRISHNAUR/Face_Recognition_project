{
 "cells": [
  {
   "cell_type": "code",
   "execution_count": 1,
   "id": "17d57e3e",
   "metadata": {},
   "outputs": [
    {
     "name": "stderr",
     "output_type": "stream",
     "text": [
      "2023-08-11 11:59:25.864242: I tensorflow/core/platform/cpu_feature_guard.cc:182] This TensorFlow binary is optimized to use available CPU instructions in performance-critical operations.\n",
      "To enable the following instructions: SSE4.1 SSE4.2 AVX AVX2 FMA, in other operations, rebuild TensorFlow with the appropriate compiler flags.\n",
      "2023-08-11 11:59:27.595556: I tensorflow/core/common_runtime/process_util.cc:146] Creating new thread pool with default inter op setting: 2. Tune using inter_op_parallelism_threads for best performance.\n"
     ]
    }
   ],
   "source": [
    "from model import create_model\n",
    "nn4_small2 = create_model()"
   ]
  },
  {
   "cell_type": "code",
   "execution_count": 2,
   "id": "672a18d5",
   "metadata": {},
   "outputs": [],
   "source": [
    "nn4_small2.load_weights('weights/nn4.small2.v1.h5')"
   ]
  },
  {
   "cell_type": "code",
   "execution_count": 3,
   "id": "0aec7e72",
   "metadata": {},
   "outputs": [],
   "source": [
    "def distance(emb1, emb2):\n",
    "    return np.sum(np.square(emb1 - emb2))"
   ]
  },
  {
   "cell_type": "code",
   "execution_count": 5,
   "id": "3bbd5a66",
   "metadata": {},
   "outputs": [],
   "source": [
    "empeding = []\n",
    "import os\n",
    "from PIL import Image\n",
    "import numpy as np\n",
    "def getImagesAndLabels(path):\n",
    "    imagePaths = [os.path.join(path,f) for f in os.listdir(path)]\n",
    "    for imagePath in imagePaths:\n",
    "        print(imagePath)\n",
    "        PIL_img = Image.open(imagePath).convert('RGB')\n",
    "        PIL_img = PIL_img.resize((96,96))\n",
    "        img_numpy = np.array(PIL_img)\n",
    "        img_numpy = (img_numpy / 255.).astype(np.float32)\n",
    "        empeding.append(nn4_small2_pretrained.predict(np.expand_dims(img_numpy, axis=0))[0])\n",
    "        # print(img_numpy)\n",
    "        print(imagePath)\n",
    "    return empeding"
   ]
  },
  {
   "cell_type": "code",
   "execution_count": null,
   "id": "8f15987c",
   "metadata": {},
   "outputs": [],
   "source": []
  }
 ],
 "metadata": {
  "kernelspec": {
   "display_name": "Python 3 (ipykernel)",
   "language": "python",
   "name": "python3"
  },
  "language_info": {
   "codemirror_mode": {
    "name": "ipython",
    "version": 3
   },
   "file_extension": ".py",
   "mimetype": "text/x-python",
   "name": "python",
   "nbconvert_exporter": "python",
   "pygments_lexer": "ipython3",
   "version": "3.11.3"
  }
 },
 "nbformat": 4,
 "nbformat_minor": 5
}
